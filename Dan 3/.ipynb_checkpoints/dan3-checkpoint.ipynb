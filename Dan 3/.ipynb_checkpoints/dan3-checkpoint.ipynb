{
 "cells": [
  {
   "cell_type": "code",
   "execution_count": 1,
   "id": "4d9f0df8",
   "metadata": {},
   "outputs": [],
   "source": [
    "import numpy as np \n",
    "import matplotlib.pyplot as plt\n",
    "import pandas as pd\n",
    "from scipy.linalg import toeplitz\n",
    "import scipy.stats\n",
    "import math"
   ]
  },
  {
   "cell_type": "markdown",
   "id": "29bdce42",
   "metadata": {},
   "source": [
    "ZADATAK "
   ]
  },
  {
   "cell_type": "markdown",
   "id": "62cdb6d0",
   "metadata": {},
   "source": [
    "Učitavanje podataka:"
   ]
  },
  {
   "cell_type": "code",
   "execution_count": 2,
   "id": "c2758edd",
   "metadata": {},
   "outputs": [],
   "source": [
    "given_file = open('FinalVector1.txt', 'r')\n",
    "\n",
    "lines = given_file.readlines()\n",
    "\n",
    "given_file.close()\n",
    "\n",
    "vector_1=np.zeros(51);\n",
    "for i in range(51):\n",
    "        vector_1[i]=float(lines[i])"
   ]
  },
  {
   "cell_type": "code",
   "execution_count": 3,
   "id": "270b0b2d",
   "metadata": {},
   "outputs": [
    {
     "data": {
      "text/plain": [
       "array([1.92961969, 2.16903693, 2.55523534, 2.84374028, 2.837359  ,\n",
       "       2.98079735, 3.06441769, 3.04821442, 3.15878732, 3.08480359,\n",
       "       2.96577109, 2.86298776, 2.70374608, 2.655887  , 2.4956825 ,\n",
       "       2.44101974, 2.31729617, 2.34337917, 2.22766082, 2.32680674,\n",
       "       2.26595282, 2.35705599, 2.5668216 , 2.61468307, 2.99832192,\n",
       "       3.18423223, 3.56667434, 3.96891523, 4.3873518 , 4.74199529,\n",
       "       5.15943   , 5.53212572, 5.79704917, 6.00778435, 6.13872273,\n",
       "       6.18556891, 5.98143718, 5.86285128, 5.68207877, 5.20123888,\n",
       "       4.95610896, 4.474714  , 4.04136263, 3.59968694, 3.21397448,\n",
       "       2.8737981 , 2.39306496, 2.13222149, 1.79435978, 1.46087745,\n",
       "       1.13764823])"
      ]
     },
     "execution_count": 3,
     "metadata": {},
     "output_type": "execute_result"
    }
   ],
   "source": [
    "vector_1"
   ]
  },
  {
   "cell_type": "code",
   "execution_count": 4,
   "id": "50d5f20f",
   "metadata": {},
   "outputs": [],
   "source": [
    "given_file = open('FinalVector2.txt', 'r')\n",
    "\n",
    "lines = given_file.readlines()\n",
    "\n",
    "given_file.close()\n",
    "\n",
    "vector_2=np.zeros(51);\n",
    "for i in range(51):\n",
    "        vector_2[i]=float(lines[i])"
   ]
  },
  {
   "cell_type": "code",
   "execution_count": 5,
   "id": "4a6ea528",
   "metadata": {},
   "outputs": [],
   "source": [
    "given_file = open('FinalVector3.txt', 'r')\n",
    "\n",
    "lines = given_file.readlines()\n",
    "\n",
    "given_file.close()\n",
    "\n",
    "vector_3=np.zeros(51);\n",
    "for i in range(51):\n",
    "        vector_3[i]=float(lines[i])"
   ]
  },
  {
   "cell_type": "code",
   "execution_count": 6,
   "id": "0251e13a",
   "metadata": {},
   "outputs": [],
   "source": [
    "given_file = open('FinalVector4.txt', 'r')\n",
    "\n",
    "lines = given_file.readlines()\n",
    "\n",
    "given_file.close()\n",
    "\n",
    "vector_4=np.zeros(51);\n",
    "for i in range(51):\n",
    "        vector_4[i]=float(lines[i])"
   ]
  },
  {
   "cell_type": "code",
   "execution_count": 7,
   "id": "7835232b",
   "metadata": {},
   "outputs": [],
   "source": [
    "given_file = open('FinalVector5.txt', 'r')\n",
    "\n",
    "lines = given_file.readlines()\n",
    "\n",
    "#for line in lines:\n",
    "  #  for c in line:\n",
    "      #  if c.isdigit() == True:\n",
    "      #      print('Integer found : {}'.format(c))\n",
    "\n",
    "given_file.close()\n",
    "\n",
    "vector_5=np.zeros(51);\n",
    "for i in range(51):\n",
    "        vector_5[i]=float(lines[i])"
   ]
  },
  {
   "cell_type": "markdown",
   "id": "5763db39",
   "metadata": {},
   "source": [
    "Učitavanje Kernela i formiranje matrice A:"
   ]
  },
  {
   "cell_type": "code",
   "execution_count": 8,
   "id": "ab94b7cc",
   "metadata": {},
   "outputs": [],
   "source": [
    "given_file = open('Kernel1.txt', 'r')\n",
    "\n",
    "lines = given_file.readlines()\n",
    "\n",
    "given_file.close()\n",
    "\n",
    "kernel=np.zeros(51);\n",
    "for i in range(51):\n",
    "        kernel[i]=float(lines[i])\n",
    "        \n",
    "H = toeplitz(kernel)"
   ]
  },
  {
   "cell_type": "code",
   "execution_count": 9,
   "id": "b9217dd1",
   "metadata": {},
   "outputs": [],
   "source": [
    "#pd.DataFrame(H)"
   ]
  },
  {
   "cell_type": "markdown",
   "id": "c19fc1a8",
   "metadata": {},
   "source": [
    "Metoda regularizacije za FinalVector1 i R(x)=||delta(x)||2,2"
   ]
  },
  {
   "cell_type": "code",
   "execution_count": 10,
   "id": "68627253",
   "metadata": {},
   "outputs": [],
   "source": [
    "#Matrica I s 1 na dijagonali i -1 na sporednoj donjoj dijagonali\n",
    "I=np.eye(51)\n",
    "for i in range(50):\n",
    "    I[i+1,i]=-1"
   ]
  },
  {
   "cell_type": "code",
   "execution_count": 11,
   "id": "168a57fe",
   "metadata": {},
   "outputs": [
    {
     "data": {
      "text/plain": [
       "array([ 0.68971297,  1.2568385 ,  1.69712874,  2.0119482 ,  2.20838291,\n",
       "        2.2986762 ,  2.29907552,  2.22828188,  2.10575761,  1.95015566,\n",
       "        1.77808743,  1.60336236,  1.43673258,  1.28608192,  1.15692757,\n",
       "        1.05306356,  0.97717145,  0.93125252,  0.91679111,  0.93463097,\n",
       "        0.98462175,  1.06515758,  1.17276827,  1.30192601,  1.4451923 ,\n",
       "        1.59375721,  1.73832936,  1.87024312,  1.98258014,  2.07107622,\n",
       "        2.13460998,  2.17514534,  2.19711032,  2.20631566,  2.20862135,\n",
       "       19.0549981 ,  1.9649743 ,  1.96448151,  1.9603206 ,  1.94735934,\n",
       "        1.91969975,  1.8720945 ,  1.80130344,  1.70712074,  1.59287386,\n",
       "        1.46530431,  1.3338636 ,  1.20956809,  1.10363321,  1.02613426,\n",
       "        0.98491745])"
      ]
     },
     "execution_count": 11,
     "metadata": {},
     "output_type": "execute_result"
    }
   ],
   "source": [
    "#Sada cemo procijeniti najbolji I na način da smanjimo R(x)\n",
    "vector_1_zeros=np.concatenate((vector_1,np.transpose(np.zeros(51))))\n",
    "R=100000\n",
    "argument=0\n",
    "for i in range(50):\n",
    "    I[i,:]=0\n",
    "    I[i+1,:]=0\n",
    "    A=np.concatenate((H,I))\n",
    "    A_inv=np.linalg.pinv(A)\n",
    "    x_1=np.dot(A_inv,vector_1_zeros)\n",
    "    mini=np.linalg.norm(np.dot(I,x_1))\n",
    "    if (R > mini):\n",
    "        R=mini\n",
    "        argument=i\n",
    "    I=np.eye(51)\n",
    "    for j in range(50):\n",
    "        I[j+1,j]=-1\n",
    "    \n",
    "I[argument,:]=0\n",
    "I[argument+1,:]=0\n",
    "A=np.concatenate((H,I))\n",
    "A_inv=np.linalg.pinv(A)\n",
    "x_1=np.dot(A_inv,vector_1_zeros)\n",
    "x_1"
   ]
  },
  {
   "cell_type": "code",
   "execution_count": 12,
   "id": "a74146be",
   "metadata": {},
   "outputs": [
    {
     "data": {
      "text/plain": [
       "[<matplotlib.lines.Line2D at 0x2cd8bdc3d30>]"
      ]
     },
     "execution_count": 12,
     "metadata": {},
     "output_type": "execute_result"
    },
    {
     "data": {
      "image/png": "[encoded data removed]",
      "text/plain": [
       "<Figure size 432x288 with 1 Axes>"
      ]
     },
     "metadata": {
      "needs_background": "light"
     },
     "output_type": "display_data"
    }
   ],
   "source": [
    "i = np.arange(0,51,1)\n",
    "Hx_1=np.dot(H,x_1)\n",
    "plt.plot(i, Hx_1, color=\"green\")\n",
    "plt.plot(i, x_1,color=\"red\")\n",
    "plt.plot(i, vector_1, color=\"blue\")"
   ]
  },
  {
   "cell_type": "code",
   "execution_count": 13,
   "id": "64336cbc",
   "metadata": {},
   "outputs": [],
   "source": [
    "np.savetxt('x_1.txt', x_1, fmt='%1.4e')"
   ]
  },
  {
   "cell_type": "markdown",
   "id": "724674a9",
   "metadata": {},
   "source": [
    "Metoda regularizacije za FinalVector3 i R(x)=||delta(x)||2,2"
   ]
  },
  {
   "cell_type": "code",
   "execution_count": 14,
   "id": "9e784f8e",
   "metadata": {},
   "outputs": [
    {
     "data": {
      "text/plain": [
       "array([ 0.01258791,  0.07348458,  0.15521656,  0.23554495,  0.29944056,\n",
       "        0.33910988,  0.35256864,  0.34170675,  0.31074652,  0.26551249,\n",
       "        0.21329221,  0.16263717,  0.12247747,  0.10038434,  0.10044566,\n",
       "        0.12165288,  0.15767129,  0.19836243,  0.23268322,  0.25196333,\n",
       "        0.25236083,  0.23561179,  0.20787495,  0.17721889,  0.15078581,\n",
       "        0.13270482,  0.12343226,  0.12056288,  0.37675047, -0.53159583,\n",
       "       -0.53273586, -0.534476  , -0.53560498,  1.38969073, -0.44066488,\n",
       "       -0.44340106, -0.45206928, -0.46850888, -0.49156044, -0.51649631,\n",
       "       -0.53606571, -0.54303186, -0.53336395, -0.50879258, -0.4774806 ,\n",
       "       -0.45214128, -0.44586326, -0.46681685, -0.51354377, -0.57244336,\n",
       "       -0.6183875 ])"
      ]
     },
     "execution_count": 14,
     "metadata": {},
     "output_type": "execute_result"
    }
   ],
   "source": [
    "#Matrica I s 1 na dijagonali i -1 na sporednoj donjoj dijagonali\n",
    "I=np.eye(51)\n",
    "for i in range(50):\n",
    "    I[i+1,i]=-1\n",
    "#Sada cemo procijeniti najbolji I na način da smanjimo R(x)\n",
    "vector_3_zeros=np.concatenate((vector_3,np.transpose(np.zeros(51))))\n",
    "R=100000\n",
    "l=0.1\n",
    "k=5\n",
    "argument=0\n",
    "for i in range(50-k):\n",
    "    I[i,:]=0\n",
    "    I[i+1,:]=0\n",
    "    I[i+k,:]=0\n",
    "    I[i+k+1,:]=0\n",
    "    A=np.concatenate((H,l*I))\n",
    "    A_inv=np.linalg.pinv(A)\n",
    "    x_3=np.dot(A_inv,vector_3_zeros)\n",
    "    mini=np.linalg.norm(np.dot(I,x_3))\n",
    "    if (R > mini):\n",
    "        R=mini\n",
    "        argument=i\n",
    "    I=np.eye(51)\n",
    "    for j in range(50):\n",
    "        I[j+1,j]=-1\n",
    "    \n",
    "I[argument,:]=0\n",
    "I[argument+1,:]=0\n",
    "I[argument+k,:]=0\n",
    "I[argument+k+1,:]=0\n",
    "A=np.concatenate((H,l*I))\n",
    "A_inv=np.linalg.pinv(A)\n",
    "x_3=np.dot(A_inv,vector_3_zeros)\n",
    "x_3"
   ]
  },
  {
   "cell_type": "code",
   "execution_count": 15,
   "id": "7452b96c",
   "metadata": {},
   "outputs": [
    {
     "data": {
      "text/plain": [
       "[<matplotlib.lines.Line2D at 0x2cd8bec3280>]"
      ]
     },
     "execution_count": 15,
     "metadata": {},
     "output_type": "execute_result"
    },
    {
     "data": {
      "image/png": "[encoded data removed]",
      "text/plain": [
       "<Figure size 432x288 with 1 Axes>"
      ]
     },
     "metadata": {
      "needs_background": "light"
     },
     "output_type": "display_data"
    }
   ],
   "source": [
    "i = np.arange(0,51,1)\n",
    "plt.plot(i, x_3, color=\"green\")"
   ]
  },
  {
   "cell_type": "code",
   "execution_count": 16,
   "id": "fcc1fab3",
   "metadata": {},
   "outputs": [],
   "source": [
    "np.savetxt('x_3.txt', x_3, fmt='%1.4e')"
   ]
  },
  {
   "cell_type": "markdown",
   "id": "21acf579",
   "metadata": {},
   "source": [
    "Metoda regularizacije za FinalVector5 i R(x)=||x||2,2"
   ]
  },
  {
   "cell_type": "code",
   "execution_count": 17,
   "id": "48f76049",
   "metadata": {},
   "outputs": [
    {
     "data": {
      "text/plain": [
       "array([ 0.5754884 ,  0.6692709 ,  0.75962686,  0.84308138,  0.91661938,\n",
       "        0.97767991,  1.02397095,  1.05317341,  1.06263633,  1.04916903,\n",
       "        1.00901271,  0.93803544,  0.83215259,  0.68793745,  0.50335587,\n",
       "        0.27853396,  0.01644813, -0.27658411, -0.59072969, -0.91287286,\n",
       "       -1.22729704, -1.51679023, -1.76407531, -1.95340353, -2.07211024,\n",
       "       -2.11192584, -2.06986406, -1.94856662, -1.75605904, -1.50495207,\n",
       "       -1.21119464, -0.89253809, -0.56690098, -0.25082726,  0.04179075,\n",
       "        0.30059463,  0.51917308,  0.69499405,  0.82890543,  0.92430813,\n",
       "        0.9861462 ,  1.01987973,  1.03060343,  1.02244384,  0.99831226,\n",
       "        0.96001682,  0.90866018,  0.84518745,  0.77092026,  0.68792632,\n",
       "        0.59912813])"
      ]
     },
     "execution_count": 17,
     "metadata": {},
     "output_type": "execute_result"
    }
   ],
   "source": [
    "#Matrica I s 1 na dijagonali i -1 na sporednoj donjoj dijagonali\n",
    "I=np.eye(51)\n",
    "l=0.5\n",
    "vector_5_zeros=np.concatenate((vector_5,np.transpose(np.zeros(51))))\n",
    "A=np.concatenate((H,l*I))\n",
    "A_inv=np.linalg.pinv(A)\n",
    "x_5=np.dot(A_inv,vector_5_zeros)\n",
    "x_5"
   ]
  },
  {
   "cell_type": "code",
   "execution_count": 18,
   "id": "4b4747ad",
   "metadata": {},
   "outputs": [
    {
     "data": {
      "text/plain": [
       "[<matplotlib.lines.Line2D at 0x2cd8bf1ac70>]"
      ]
     },
     "execution_count": 18,
     "metadata": {},
     "output_type": "execute_result"
    },
    {
     "data": {
      "image/png": "[encoded data removed]",
      "text/plain": [
       "<Figure size 432x288 with 1 Axes>"
      ]
     },
     "metadata": {
      "needs_background": "light"
     },
     "output_type": "display_data"
    }
   ],
   "source": [
    "i = np.arange(0,51,1)\n",
    "plt.plot(i, x_5, color=\"green\")"
   ]
  },
  {
   "cell_type": "code",
   "execution_count": 19,
   "id": "ce957892",
   "metadata": {},
   "outputs": [],
   "source": [
    "np.savetxt('x_5.txt', x_5, fmt='%1.4e')"
   ]
  }
 ],
 "metadata": {
  "kernelspec": {
   "display_name": "Python 3",
   "language": "python",
   "name": "python3"
  },
  "language_info": {
   "codemirror_mode": {
    "name": "ipython",
    "version": 3
   },
   "file_extension": ".py",
   "mimetype": "text/x-python",
   "name": "python",
   "nbconvert_exporter": "python",
   "pygments_lexer": "ipython3",
   "version": "3.8.8"
  }
 },
 "nbformat": 4,
 "nbformat_minor": 5
}
