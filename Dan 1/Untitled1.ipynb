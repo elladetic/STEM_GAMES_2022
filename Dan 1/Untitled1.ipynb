{
 "cells": [
  {
   "cell_type": "code",
   "execution_count": 1,
   "id": "af2a876f",
   "metadata": {},
   "outputs": [],
   "source": [
    "import numpy as np \n",
    "import matplotlib.pyplot as plt\n",
    "import pandas as pd\n",
    "from scipy.linalg import toeplitz\n",
    "import scipy.stats\n",
    "import math"
   ]
  },
  {
   "cell_type": "markdown",
   "id": "909b256b",
   "metadata": {},
   "source": [
    "ZADATAK "
   ]
  },
  {
   "cell_type": "code",
   "execution_count": null,
   "id": "651dc883",
   "metadata": {},
   "outputs": [],
   "source": [
    "given_file = open('input.txt', 'r')\n",
    "\n",
    "lines = given_file.readlines()\n",
    "\n",
    "for line in lines:\n",
    "    for c in line:\n",
    "        if c.isdigit() == True:\n",
    "            print('Integer found : {}'.format(c))\n",
    "\n",
    "given_file.close()"
   ]
  }
 ],
 "metadata": {
  "kernelspec": {
   "display_name": "Python 3",
   "language": "python",
   "name": "python3"
  },
  "language_info": {
   "codemirror_mode": {
    "name": "ipython",
    "version": 3
   },
   "file_extension": ".py",
   "mimetype": "text/x-python",
   "name": "python",
   "nbconvert_exporter": "python",
   "pygments_lexer": "ipython3",
   "version": "3.8.8"
  }
 },
 "nbformat": 4,
 "nbformat_minor": 5
}
