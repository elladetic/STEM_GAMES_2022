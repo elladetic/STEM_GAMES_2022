{
 "cells": [
  {
   "cell_type": "code",
   "execution_count": 12,
   "id": "1c026e36",
   "metadata": {},
   "outputs": [],
   "source": [
    "import numpy as np \n",
    "import matplotlib.pyplot as plt\n",
    "import pandas as pd\n",
    "from scipy.linalg import toeplitz\n",
    "import scipy.stats\n",
    "import math"
   ]
  },
  {
   "cell_type": "markdown",
   "id": "becc609a",
   "metadata": {},
   "source": [
    "ZADATAK "
   ]
  },
  {
   "cell_type": "markdown",
   "id": "472b9a66",
   "metadata": {},
   "source": [
    "Učitavanje podataka:"
   ]
  },
  {
   "cell_type": "code",
   "execution_count": 40,
   "id": "2d9ec53e",
   "metadata": {},
   "outputs": [],
   "source": [
    "given_file = open('FinalVector1.txt', 'r')\n",
    "\n",
    "lines = given_file.readlines()\n",
    "\n",
    "given_file.close()\n",
    "\n",
    "vector_1=np.zeros(51);\n",
    "for i in range(51):\n",
    "        vector_1[i]=float(lines[i])"
   ]
  },
  {
   "cell_type": "code",
   "execution_count": 42,
   "id": "56d3ee95",
   "metadata": {},
   "outputs": [],
   "source": [
    "given_file = open('FinalVector2.txt', 'r')\n",
    "\n",
    "lines = given_file.readlines()\n",
    "\n",
    "given_file.close()\n",
    "\n",
    "vector_2=np.zeros(51);\n",
    "for i in range(51):\n",
    "        vector_2[i]=float(lines[i])"
   ]
  },
  {
   "cell_type": "code",
   "execution_count": 44,
   "id": "ae00b198",
   "metadata": {},
   "outputs": [],
   "source": [
    "given_file = open('FinalVector3.txt', 'r')\n",
    "\n",
    "lines = given_file.readlines()\n",
    "\n",
    "given_file.close()\n",
    "\n",
    "vector_3=np.zeros(51);\n",
    "for i in range(51):\n",
    "        vector_3[i]=float(lines[i])"
   ]
  },
  {
   "cell_type": "code",
   "execution_count": 45,
   "id": "a4463fd0",
   "metadata": {},
   "outputs": [],
   "source": [
    "given_file = open('FinalVector4.txt', 'r')\n",
    "\n",
    "lines = given_file.readlines()\n",
    "\n",
    "given_file.close()\n",
    "\n",
    "vector_4=np.zeros(51);\n",
    "for i in range(51):\n",
    "        vector_4[i]=float(lines[i])"
   ]
  },
  {
   "cell_type": "code",
   "execution_count": 46,
   "id": "66c10a1a",
   "metadata": {},
   "outputs": [],
   "source": [
    "given_file = open('FinalVector5.txt', 'r')\n",
    "\n",
    "lines = given_file.readlines()\n",
    "\n",
    "#for line in lines:\n",
    "  #  for c in line:\n",
    "      #  if c.isdigit() == True:\n",
    "      #      print('Integer found : {}'.format(c))\n",
    "\n",
    "given_file.close()\n",
    "\n",
    "vector_5=np.zeros(51);\n",
    "for i in range(51):\n",
    "        vector_5[i]=float(lines[i])"
   ]
  },
  {
   "cell_type": "code",
   "execution_count": 51,
   "id": "29e3183b",
   "metadata": {},
   "outputs": [
    {
     "data": {
      "text/plain": [
       "array([1.92961969, 2.16903693, 2.55523534, 2.84374028, 2.837359  ,\n",
       "       2.98079735, 3.06441769, 3.04821442, 3.15878732, 3.08480359,\n",
       "       2.96577109, 2.86298776, 2.70374608, 2.655887  , 2.4956825 ,\n",
       "       2.44101974, 2.31729617, 2.34337917, 2.22766082, 2.32680674,\n",
       "       2.26595282, 2.35705599, 2.5668216 , 2.61468307, 2.99832192,\n",
       "       3.18423223, 3.56667434, 3.96891523, 4.3873518 , 4.74199529,\n",
       "       5.15943   , 5.53212572, 5.79704917, 6.00778435, 6.13872273,\n",
       "       6.18556891, 5.98143718, 5.86285128, 5.68207877, 5.20123888,\n",
       "       4.95610896, 4.474714  , 4.04136263, 3.59968694, 3.21397448,\n",
       "       2.8737981 , 2.39306496, 2.13222149, 1.79435978, 1.46087745,\n",
       "       1.13764823])"
      ]
     },
     "execution_count": 51,
     "metadata": {},
     "output_type": "execute_result"
    }
   ],
   "source": [
    "vector_1"
   ]
  },
  {
   "cell_type": "markdown",
   "id": "f7a6a4ad",
   "metadata": {},
   "source": [
    "Učitavanje Kernela i formiranje matrice A:"
   ]
  },
  {
   "cell_type": "code",
   "execution_count": 31,
   "id": "2d289f6e",
   "metadata": {},
   "outputs": [],
   "source": [
    "given_file = open('Kernel1.txt', 'r')\n",
    "\n",
    "lines = given_file.readlines()\n",
    "\n",
    "#for line in lines:\n",
    "    #for c in line:\n",
    "        #if c.isdigit() == True:\n",
    "            #print('Integer found : {}'.format(c))\n",
    "\n",
    "given_file.close()\n",
    "\n",
    "kernel=np.zeros(51);\n",
    "for i in range(51):\n",
    "        kernel[i]=float(lines[i])\n",
    "        \n",
    "A = toeplitz(kernel)"
   ]
  },
  {
   "cell_type": "code",
   "execution_count": 32,
   "id": "31acb929",
   "metadata": {},
   "outputs": [
    {
     "data": {
      "text/plain": [
       "array([1.50574307e-01, 1.47471073e-01, 1.38539858e-01, 1.24840234e-01,\n",
       "       1.07906185e-01, 8.94643557e-02, 7.11484874e-02, 5.42741759e-02,\n",
       "       3.97130038e-02, 2.78730292e-02, 1.87649554e-02, 1.21177737e-02,\n",
       "       7.50602608e-03, 4.45973686e-03, 2.54167686e-03, 1.38945142e-03,\n",
       "       7.28581824e-04, 3.66458865e-04, 1.76800734e-04, 8.18191249e-05,\n",
       "       3.63193050e-05, 1.54643675e-05, 6.31595063e-06, 2.47432775e-06,\n",
       "       9.29795966e-07, 3.35142900e-07, 1.15873552e-07, 3.84282453e-08,\n",
       "       1.22244328e-08, 3.73008577e-09, 1.09174409e-09, 3.06503060e-10,\n",
       "       8.25392870e-11, 2.13205569e-11, 5.28260708e-12, 1.25548060e-12,\n",
       "       2.86209233e-13, 6.25848483e-14, 1.31270368e-14, 2.64104702e-15,\n",
       "       5.09679890e-16, 9.43475867e-17, 1.67523612e-17, 2.85320641e-18,\n",
       "       4.66124885e-19, 7.30437936e-20, 1.09793413e-20, 1.58300097e-21,\n",
       "       2.18926338e-22, 2.90420171e-23, 0.00000000e+00])"
      ]
     },
     "execution_count": 32,
     "metadata": {},
     "output_type": "execute_result"
    }
   ],
   "source": [
    "kernel"
   ]
  }
 ],
 "metadata": {
  "kernelspec": {
   "display_name": "Python 3",
   "language": "python",
   "name": "python3"
  },
  "language_info": {
   "codemirror_mode": {
    "name": "ipython",
    "version": 3
   },
   "file_extension": ".py",
   "mimetype": "text/x-python",
   "name": "python",
   "nbconvert_exporter": "python",
   "pygments_lexer": "ipython3",
   "version": "3.8.8"
  }
 },
 "nbformat": 4,
 "nbformat_minor": 5
}
